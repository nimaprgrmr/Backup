{
 "cells": [
  {
   "cell_type": "code",
   "execution_count": 1,
   "id": "1ec36540",
   "metadata": {},
   "outputs": [
    {
     "name": "stdout",
     "output_type": "stream",
     "text": [
      "0.9777777777777777\n"
     ]
    }
   ],
   "source": [
    "import pandas as pd\n",
    "from sklearn.linear_model import PassiveAggressiveClassifier\n",
    "from sklearn import datasets\n",
    "from sklearn.model_selection import train_test_split\n",
    "from sklearn.preprocessing import StandardScaler\n",
    "#\n",
    "# Load IRIS dataset\n",
    "#\n",
    "iris = datasets.load_iris()\n",
    "#\n",
    "# Create dataframe\n",
    "#\n",
    "df = pd.DataFrame({\n",
    "    \"sepal_length\":iris.data[:, 0],\n",
    "    \"sepal_width\":iris.data[:, 1],\n",
    "    \"petal_length\":iris.data[:, 2],\n",
    "    \"petal_width\": iris.data[:, 3]\n",
    "})\n",
    "df[\"target\"] = iris.target\n",
    "#\n",
    "# Create train test split\n",
    "#\n",
    "X_train, X_test, y_train, y_test = train_test_split(df.iloc[:, 0:4], df.iloc[:, 4], random_state=42, test_size=0.3)\n",
    "#\n",
    "# Standardize the training/test data\n",
    "#\n",
    "sc = StandardScaler()\n",
    "X_train_std = sc.fit_transform(X_train)\n",
    "X_test_std = sc.fit_transform(X_test)\n",
    "#\n",
    "# Fit the model\n",
    "#\n",
    "clf = PassiveAggressiveClassifier(max_iter=1000, random_state=42)\n",
    "clf.fit(X_train_std, y_train)\n",
    "print(clf.score(X_test_std, y_test))"
   ]
  },
  {
   "cell_type": "code",
   "execution_count": null,
   "id": "19f3212a",
   "metadata": {},
   "outputs": [],
   "source": []
  }
 ],
 "metadata": {
  "kernelspec": {
   "display_name": "Python 3 (ipykernel)",
   "language": "python",
   "name": "python3"
  },
  "language_info": {
   "codemirror_mode": {
    "name": "ipython",
    "version": 3
   },
   "file_extension": ".py",
   "mimetype": "text/x-python",
   "name": "python",
   "nbconvert_exporter": "python",
   "pygments_lexer": "ipython3",
   "version": "3.10.9"
  }
 },
 "nbformat": 4,
 "nbformat_minor": 5
}
