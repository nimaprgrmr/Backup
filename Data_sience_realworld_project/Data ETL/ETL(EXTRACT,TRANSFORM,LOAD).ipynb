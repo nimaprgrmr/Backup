{
 "cells": [
  {
   "cell_type": "markdown",
   "id": "26ee0363",
   "metadata": {},
   "source": [
    "Developing Data ETL pipelines is one of the most valuable skills for Data Engineers. Data ETL is a process where data is extracted from a place, then the data is transformed in some way, and then data is loaded into a database. So ETL stands for Extracting, Transforming, and Loading the data. So, if you want to learn how to Develop a Data ETL pipeline, this article is for you. In this article, I will take you through how to develop a Data ETL pipeline using Python."
   ]
  },
  {
   "cell_type": "code",
   "execution_count": 2,
   "id": "70f17640",
   "metadata": {},
   "outputs": [],
   "source": [
    "import tensorflow.keras as keras"
   ]
  },
  {
   "cell_type": "code",
   "execution_count": 4,
   "id": "5d48098d",
   "metadata": {},
   "outputs": [
    {
     "name": "stdout",
     "output_type": "stream",
     "text": [
      "Downloading data from https://storage.googleapis.com/tensorflow/tf-keras-datasets/train-labels-idx1-ubyte.gz\n",
      "29515/29515 [==============================] - 0s 12us/step\n",
      "Downloading data from https://storage.googleapis.com/tensorflow/tf-keras-datasets/train-images-idx3-ubyte.gz\n",
      "26421880/26421880 [==============================] - 24s 1us/step\n",
      "Downloading data from https://storage.googleapis.com/tensorflow/tf-keras-datasets/t10k-labels-idx1-ubyte.gz\n",
      "5148/5148 [==============================] - 0s 0s/step\n",
      "Downloading data from https://storage.googleapis.com/tensorflow/tf-keras-datasets/t10k-images-idx3-ubyte.gz\n",
      "4422102/4422102 [==============================] - 8s 2us/step\n"
     ]
    }
   ],
   "source": [
    "(xtrain, ytrain), (xtest, ytest) = keras.datasets.fashion_mnist.load_data()"
   ]
  },
  {
   "cell_type": "code",
   "execution_count": 5,
   "id": "5055ab95",
   "metadata": {},
   "outputs": [
    {
     "name": "stdout",
     "output_type": "stream",
     "text": [
      "(60000, 28, 28)\n",
      "(60000,)\n",
      "(10000, 28, 28)\n",
      "(10000,)\n"
     ]
    }
   ],
   "source": [
    "print(xtrain.shape)\n",
    "print(ytrain.shape)\n",
    "print(xtest.shape)\n",
    "print(ytest.shape)"
   ]
  },
  {
   "cell_type": "code",
   "execution_count": 8,
   "id": "c149a907",
   "metadata": {},
   "outputs": [
    {
     "data": {
      "text/plain": [
       "3"
      ]
     },
     "execution_count": 8,
     "metadata": {},
     "output_type": "execute_result"
    }
   ],
   "source": [
    "xtrain.ndim"
   ]
  },
  {
   "cell_type": "markdown",
   "id": "ce2e6ddc",
   "metadata": {},
   "source": [
    "Now let’s clean and transform the data. Here we will normalize the pixel values to be between 0 and 1 and reshape the data into a 4D tensor:"
   ]
  },
  {
   "cell_type": "code",
   "execution_count": 11,
   "id": "2ebfcc26",
   "metadata": {},
   "outputs": [
    {
     "name": "stdout",
     "output_type": "stream",
     "text": [
      "(60000, 28, 28, 1)\n",
      "(60000,)\n",
      "(10000, 28, 28, 1)\n",
      "(10000,)\n"
     ]
    }
   ],
   "source": [
    "import numpy as np\n",
    "\n",
    "xtrain = xtrain.astype('float32') / 255\n",
    "xtest = xtest.astype('float32') / 255\n",
    "\n",
    "xtrain = np.reshape(xtrain, (xtrain.shape[0], 28, 28, 1))\n",
    "xtest = np.reshape(xtest, (xtest.shape[0], 28, 28, 1))\n",
    "\n",
    "print(xtrain.shape)\n",
    "print(ytrain.shape)\n",
    "print(xtest.shape)\n",
    "print(ytest.shape)"
   ]
  },
  {
   "cell_type": "markdown",
   "id": "f49e2731",
   "metadata": {},
   "source": [
    "Now let’s load the data into a database. We can use SQLite to create a database and load the data into it:"
   ]
  },
  {
   "cell_type": "code",
   "execution_count": 12,
   "id": "de903238",
   "metadata": {},
   "outputs": [],
   "source": [
    "import sqlite3\n",
    "\n",
    "conn = sqlite3.connect('fashion_mnist.db')\n",
    "\n",
    "conn.execute('''CREATE TABLE IF NOT EXISTS images\n",
    "             (id INTEGER PRIMARY KEY AUTOINCREMENT,\n",
    "             image BLOB NOT NULL,\n",
    "             label INTEGER NOT NULL);''')\n",
    "\n",
    "for i in range(xtrain.shape[0]):\n",
    "    conn.execute('INSERT INTO images (image, label) VALUES (?, ?)',\n",
    "                [sqlite3.Binary(xtrain[i]), ytrain[i]])\n",
    "\n",
    "conn.commit()\n",
    "\n",
    "for i in range(xtest.shape[0]):\n",
    "    conn.execute('INSERT INTO images (image, label) VALUES (?, ?)',\n",
    "                [sqlite3.Binary(xtest[i]), ytest[i]])\n",
    "\n",
    "conn.commit()"
   ]
  },
  {
   "cell_type": "code",
   "execution_count": 13,
   "id": "197574bb",
   "metadata": {},
   "outputs": [],
   "source": [
    "conn.close()"
   ]
  },
  {
   "cell_type": "markdown",
   "id": "6a466faf",
   "metadata": {},
   "source": [
    "In the above code:\n",
    "\n",
    "The first line imports a library called sqlite3, which allows us to work with SQLite databases in Python;\n",
    "We then create a connection to the database;\n",
    "Next, we create a table in the database called “images”;\n",
    "We use a loop to loop through each image in the training data and insert it into the “images” table (along with the labels);\n",
    "We use the commit() method to save the changes we made to the database;\n",
    "We then use another loop to loop through each image in the test data and insert it into the “images” table (along with the labels);\n",
    "We use the commit() method again to save the changes we made to the database;\n",
    "Finally, we close the connection to the database;\n",
    "So this is how we can create a Data ETL pipeline using Python. Our ETL pipeline takes the Fashion MNIST dataset and stores it in an SQLite database so that we can easily access and manipulate the data later.\n",
    "\n",
    "Now, this is how you can read the data you stored on the SQLite database:"
   ]
  },
  {
   "cell_type": "code",
   "execution_count": 14,
   "id": "2e9f9da2",
   "metadata": {},
   "outputs": [],
   "source": [
    "import sqlite3\n",
    "conn = sqlite3.connect('fashion_mnist.db')\n",
    "cursor = conn.cursor()\n",
    "\n",
    "cursor.execute('SELECT * FROM images')\n",
    "rows = cursor.fetchall()\n",
    "\n",
    "import pandas as pd\n",
    "data = pd.read_sql_query('SELECT * FROM images', conn)"
   ]
  },
  {
   "cell_type": "code",
   "execution_count": 16,
   "id": "542f1519",
   "metadata": {},
   "outputs": [
    {
     "data": {
      "text/html": [
       "<div>\n",
       "<style scoped>\n",
       "    .dataframe tbody tr th:only-of-type {\n",
       "        vertical-align: middle;\n",
       "    }\n",
       "\n",
       "    .dataframe tbody tr th {\n",
       "        vertical-align: top;\n",
       "    }\n",
       "\n",
       "    .dataframe thead th {\n",
       "        text-align: right;\n",
       "    }\n",
       "</style>\n",
       "<table border=\"1\" class=\"dataframe\">\n",
       "  <thead>\n",
       "    <tr style=\"text-align: right;\">\n",
       "      <th></th>\n",
       "      <th>id</th>\n",
       "      <th>image</th>\n",
       "      <th>label</th>\n",
       "    </tr>\n",
       "  </thead>\n",
       "  <tbody>\n",
       "    <tr>\n",
       "      <th>0</th>\n",
       "      <td>1</td>\n",
       "      <td>b'\\x00\\x00\\x00\\x00\\x00\\x00\\x00\\x00\\x00\\x00\\x00...</td>\n",
       "      <td>b'\\t'</td>\n",
       "    </tr>\n",
       "    <tr>\n",
       "      <th>1</th>\n",
       "      <td>2</td>\n",
       "      <td>b\"\\x00\\x00\\x00\\x00\\x00\\x00\\x00\\x00\\x00\\x00\\x00...</td>\n",
       "      <td>b'\\x00'</td>\n",
       "    </tr>\n",
       "    <tr>\n",
       "      <th>2</th>\n",
       "      <td>3</td>\n",
       "      <td>b\"\\x00\\x00\\x00\\x00\\x00\\x00\\x00\\x00\\x00\\x00\\x00...</td>\n",
       "      <td>b'\\x00'</td>\n",
       "    </tr>\n",
       "    <tr>\n",
       "      <th>3</th>\n",
       "      <td>4</td>\n",
       "      <td>b\"\\x00\\x00\\x00\\x00\\x00\\x00\\x00\\x00\\x00\\x00\\x00...</td>\n",
       "      <td>b'\\x03'</td>\n",
       "    </tr>\n",
       "    <tr>\n",
       "      <th>4</th>\n",
       "      <td>5</td>\n",
       "      <td>b'\\x00\\x00\\x00\\x00\\x00\\x00\\x00\\x00\\x00\\x00\\x00...</td>\n",
       "      <td>b'\\x00'</td>\n",
       "    </tr>\n",
       "  </tbody>\n",
       "</table>\n",
       "</div>"
      ],
      "text/plain": [
       "   id                                              image    label\n",
       "0   1  b'\\x00\\x00\\x00\\x00\\x00\\x00\\x00\\x00\\x00\\x00\\x00...    b'\\t'\n",
       "1   2  b\"\\x00\\x00\\x00\\x00\\x00\\x00\\x00\\x00\\x00\\x00\\x00...  b'\\x00'\n",
       "2   3  b\"\\x00\\x00\\x00\\x00\\x00\\x00\\x00\\x00\\x00\\x00\\x00...  b'\\x00'\n",
       "3   4  b\"\\x00\\x00\\x00\\x00\\x00\\x00\\x00\\x00\\x00\\x00\\x00...  b'\\x03'\n",
       "4   5  b'\\x00\\x00\\x00\\x00\\x00\\x00\\x00\\x00\\x00\\x00\\x00...  b'\\x00'"
      ]
     },
     "execution_count": 16,
     "metadata": {},
     "output_type": "execute_result"
    }
   ],
   "source": [
    "data.head()"
   ]
  },
  {
   "cell_type": "code",
   "execution_count": null,
   "id": "3ae1053d",
   "metadata": {},
   "outputs": [],
   "source": []
  },
  {
   "cell_type": "code",
   "execution_count": null,
   "id": "6a8f677e",
   "metadata": {},
   "outputs": [],
   "source": []
  }
 ],
 "metadata": {
  "kernelspec": {
   "display_name": "Python 3 (ipykernel)",
   "language": "python",
   "name": "python3"
  },
  "language_info": {
   "codemirror_mode": {
    "name": "ipython",
    "version": 3
   },
   "file_extension": ".py",
   "mimetype": "text/x-python",
   "name": "python",
   "nbconvert_exporter": "python",
   "pygments_lexer": "ipython3",
   "version": "3.10.9"
  }
 },
 "nbformat": 4,
 "nbformat_minor": 5
}
