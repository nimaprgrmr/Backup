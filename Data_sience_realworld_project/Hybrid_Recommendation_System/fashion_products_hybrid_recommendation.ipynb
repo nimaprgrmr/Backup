{
 "cells": [
  {
   "cell_type": "code",
   "execution_count": 1,
   "id": "118aa92b",
   "metadata": {},
   "outputs": [],
   "source": [
    "import pandas as pd\n",
    "import numpy as np\n",
    "import glob\n",
    "import zipfile"
   ]
  },
  {
   "cell_type": "code",
   "execution_count": 2,
   "id": "dd4160c1",
   "metadata": {},
   "outputs": [
    {
     "data": {
      "text/plain": [
       "['fashion_products.zip']"
      ]
     },
     "execution_count": 2,
     "metadata": {},
     "output_type": "execute_result"
    }
   ],
   "source": [
    "files = glob.glob('fashion_products.zip')\n",
    "files"
   ]
  },
  {
   "cell_type": "code",
   "execution_count": 3,
   "id": "dee79e64",
   "metadata": {},
   "outputs": [
    {
     "name": "stdout",
     "output_type": "stream",
     "text": [
      "Unzipping: fashion_products.zip\n"
     ]
    }
   ],
   "source": [
    "for file in files:\n",
    "    print('Unzipping:',file)\n",
    "\n",
    "    with zipfile.ZipFile(file, 'r') as zip_ref:\n",
    "        zip_ref.extractall('raw')"
   ]
  },
  {
   "cell_type": "code",
   "execution_count": 16,
   "id": "31a9d1ed",
   "metadata": {},
   "outputs": [],
   "source": [
    "data = pd.read_csv('raw/fashion_products.csv')"
   ]
  },
  {
   "cell_type": "code",
   "execution_count": 17,
   "id": "20c29e57",
   "metadata": {},
   "outputs": [
    {
     "data": {
      "text/html": [
       "<div>\n",
       "<style scoped>\n",
       "    .dataframe tbody tr th:only-of-type {\n",
       "        vertical-align: middle;\n",
       "    }\n",
       "\n",
       "    .dataframe tbody tr th {\n",
       "        vertical-align: top;\n",
       "    }\n",
       "\n",
       "    .dataframe thead th {\n",
       "        text-align: right;\n",
       "    }\n",
       "</style>\n",
       "<table border=\"1\" class=\"dataframe\">\n",
       "  <thead>\n",
       "    <tr style=\"text-align: right;\">\n",
       "      <th></th>\n",
       "      <th>User ID</th>\n",
       "      <th>Product ID</th>\n",
       "      <th>Product Name</th>\n",
       "      <th>Brand</th>\n",
       "      <th>Category</th>\n",
       "      <th>Price</th>\n",
       "      <th>Rating</th>\n",
       "      <th>Color</th>\n",
       "      <th>Size</th>\n",
       "    </tr>\n",
       "  </thead>\n",
       "  <tbody>\n",
       "    <tr>\n",
       "      <th>0</th>\n",
       "      <td>19</td>\n",
       "      <td>1</td>\n",
       "      <td>Dress</td>\n",
       "      <td>Adidas</td>\n",
       "      <td>Men's Fashion</td>\n",
       "      <td>40</td>\n",
       "      <td>1.043159</td>\n",
       "      <td>Black</td>\n",
       "      <td>XL</td>\n",
       "    </tr>\n",
       "    <tr>\n",
       "      <th>1</th>\n",
       "      <td>97</td>\n",
       "      <td>2</td>\n",
       "      <td>Shoes</td>\n",
       "      <td>H&amp;M</td>\n",
       "      <td>Women's Fashion</td>\n",
       "      <td>82</td>\n",
       "      <td>4.026416</td>\n",
       "      <td>Black</td>\n",
       "      <td>L</td>\n",
       "    </tr>\n",
       "    <tr>\n",
       "      <th>2</th>\n",
       "      <td>25</td>\n",
       "      <td>3</td>\n",
       "      <td>Dress</td>\n",
       "      <td>Adidas</td>\n",
       "      <td>Women's Fashion</td>\n",
       "      <td>44</td>\n",
       "      <td>3.337938</td>\n",
       "      <td>Yellow</td>\n",
       "      <td>XL</td>\n",
       "    </tr>\n",
       "    <tr>\n",
       "      <th>3</th>\n",
       "      <td>57</td>\n",
       "      <td>4</td>\n",
       "      <td>Shoes</td>\n",
       "      <td>Zara</td>\n",
       "      <td>Men's Fashion</td>\n",
       "      <td>23</td>\n",
       "      <td>1.049523</td>\n",
       "      <td>White</td>\n",
       "      <td>S</td>\n",
       "    </tr>\n",
       "    <tr>\n",
       "      <th>4</th>\n",
       "      <td>79</td>\n",
       "      <td>5</td>\n",
       "      <td>T-shirt</td>\n",
       "      <td>Adidas</td>\n",
       "      <td>Men's Fashion</td>\n",
       "      <td>79</td>\n",
       "      <td>4.302773</td>\n",
       "      <td>Black</td>\n",
       "      <td>M</td>\n",
       "    </tr>\n",
       "  </tbody>\n",
       "</table>\n",
       "</div>"
      ],
      "text/plain": [
       "   User ID  Product ID Product Name   Brand         Category  Price    Rating  \\\n",
       "0       19           1        Dress  Adidas    Men's Fashion     40  1.043159   \n",
       "1       97           2        Shoes     H&M  Women's Fashion     82  4.026416   \n",
       "2       25           3        Dress  Adidas  Women's Fashion     44  3.337938   \n",
       "3       57           4        Shoes    Zara    Men's Fashion     23  1.049523   \n",
       "4       79           5      T-shirt  Adidas    Men's Fashion     79  4.302773   \n",
       "\n",
       "    Color Size  \n",
       "0   Black   XL  \n",
       "1   Black    L  \n",
       "2  Yellow   XL  \n",
       "3   White    S  \n",
       "4   Black    M  "
      ]
     },
     "execution_count": 17,
     "metadata": {},
     "output_type": "execute_result"
    }
   ],
   "source": [
    "data.head()"
   ]
  },
  {
   "cell_type": "markdown",
   "id": "f44f0d70",
   "metadata": {},
   "source": [
    "So this data is based on fashion products for men, women, and kids. Our goal is to create two recommendation systems using collaborative and content-based filtering and then combine the recommendation techniques to build a recommendation system using a hybrid approach.\n",
    "\n",
    "First, let’s import the necessary Python libraries we will be using for the rest of the task:"
   ]
  },
  {
   "cell_type": "code",
   "execution_count": 18,
   "id": "3327feda",
   "metadata": {},
   "outputs": [],
   "source": [
    "from surprise import Dataset, Reader, SVD\n",
    "from sklearn.feature_extraction.text import TfidfVectorizer\n",
    "from sklearn.metrics.pairwise import linear_kernel"
   ]
  },
  {
   "cell_type": "markdown",
   "id": "79344343",
   "metadata": {},
   "source": [
    "##### In the above code, I have imported the Surprise library that you may not have used before. The surprise library is imported to use the SVD algorithm. SVD stands for Singular Value Decomposition. Simply put, it is a matrix factorization technique commonly used in collaborative filtering algorithms"
   ]
  },
  {
   "cell_type": "markdown",
   "id": "c879e1a1",
   "metadata": {},
   "source": [
    "#### First Approach: Content-Based Filtering"
   ]
  },
  {
   "cell_type": "code",
   "execution_count": 19,
   "id": "158189e6",
   "metadata": {},
   "outputs": [
    {
     "name": "stderr",
     "output_type": "stream",
     "text": [
      "C:\\Users\\Nima\\AppData\\Local\\Temp\\ipykernel_21652\\413947867.py:3: SettingWithCopyWarning: \n",
      "A value is trying to be set on a copy of a slice from a DataFrame.\n",
      "Try using .loc[row_indexer,col_indexer] = value instead\n",
      "\n",
      "See the caveats in the documentation: https://pandas.pydata.org/pandas-docs/stable/user_guide/indexing.html#returning-a-view-versus-a-copy\n",
      "  content_df['Content'] = content_df.apply(lambda row: ' '.join(row.dropna().astype(str)), axis=1)\n"
     ]
    }
   ],
   "source": [
    "content_df = data[['Product ID', 'Product Name', 'Brand', \n",
    "                   'Category', 'Color', 'Size']]\n",
    "content_df['Content'] = content_df.apply(lambda row: ' '.join(row.dropna().astype(str)), axis=1)\n",
    "\n",
    "# Use TF-IDF vectorizer to convert content into a matrix of TF-IDF features\n",
    "tfidf_vectorizer = TfidfVectorizer()\n",
    "content_matrix = tfidf_vectorizer.fit_transform(content_df['Content'])\n",
    "\n",
    "content_similarity = linear_kernel(content_matrix, content_matrix)\n",
    "\n",
    "reader = Reader(rating_scale=(1, 5))\n",
    "data = Dataset.load_from_df(data[['User ID', \n",
    "                                  'Product ID', \n",
    "                                  'Rating']], reader)\n",
    "\n",
    "def get_content_based_recommendations(product_id, top_n):\n",
    "    index = content_df[content_df['Product ID'] == product_id].index[0]\n",
    "    similarity_scores = content_similarity[index]\n",
    "    similar_indices = similarity_scores.argsort()[::-1][1:top_n + 1]\n",
    "    recommendations = content_df.loc[similar_indices, 'Product ID'].values\n",
    "    return recommendations"
   ]
  },
  {
   "cell_type": "markdown",
   "id": "a21e687a",
   "metadata": {},
   "source": [
    "In the above code, we are implementing the content-based filtering component of the hybrid recommender system. We started by selecting relevant features from the dataset, including the product ID, name, brand, category, colour, and size. Then we combined these features into a single “Content” column for each product.\n",
    "\n",
    "Next, we used the TF-IDF (Term Frequency-Inverse Document Frequency) vectorizer to convert the content into a TF-IDF feature matrix. This matrix represents the importance of each word in the content compared to the whole corpus.\n",
    "\n",
    "We then calculated the similarity between products based on their content using the cosine similarity measure. This similarity matrix captures the similarity between each pair of products based on their content.\n",
    "\n",
    "To get content-based recommendations, we first found the index of the target product in the similarity matrix. Then we sorted the similarity scores in descending order and selected the top N similar products. Finally, we returned the product IDs of the recommended products."
   ]
  },
  {
   "cell_type": "code",
   "execution_count": 20,
   "id": "7349e3d1",
   "metadata": {},
   "outputs": [
    {
     "name": "stdout",
     "output_type": "stream",
     "text": [
      "     User ID  Product ID    Rating\n",
      "0         19           1  1.043159\n",
      "1         97           2  4.026416\n",
      "2         25           3  3.337938\n",
      "3         57           4  1.049523\n",
      "4         79           5  4.302773\n",
      "..       ...         ...       ...\n",
      "995       20         996  1.620081\n",
      "996       42         997  1.544464\n",
      "997        9         998  3.961913\n",
      "998        8         999  3.089722\n",
      "999       91        1000  3.093553\n",
      "\n",
      "[1000 rows x 3 columns]\n"
     ]
    }
   ],
   "source": [
    "print(data.df)"
   ]
  },
  {
   "cell_type": "code",
   "execution_count": 21,
   "id": "f47eac43",
   "metadata": {},
   "outputs": [
    {
     "data": {
      "text/html": [
       "<div>\n",
       "<style scoped>\n",
       "    .dataframe tbody tr th:only-of-type {\n",
       "        vertical-align: middle;\n",
       "    }\n",
       "\n",
       "    .dataframe tbody tr th {\n",
       "        vertical-align: top;\n",
       "    }\n",
       "\n",
       "    .dataframe thead th {\n",
       "        text-align: right;\n",
       "    }\n",
       "</style>\n",
       "<table border=\"1\" class=\"dataframe\">\n",
       "  <thead>\n",
       "    <tr style=\"text-align: right;\">\n",
       "      <th></th>\n",
       "      <th>Product ID</th>\n",
       "      <th>Product Name</th>\n",
       "      <th>Brand</th>\n",
       "      <th>Category</th>\n",
       "      <th>Color</th>\n",
       "      <th>Size</th>\n",
       "      <th>Content</th>\n",
       "    </tr>\n",
       "  </thead>\n",
       "  <tbody>\n",
       "    <tr>\n",
       "      <th>0</th>\n",
       "      <td>1</td>\n",
       "      <td>Dress</td>\n",
       "      <td>Adidas</td>\n",
       "      <td>Men's Fashion</td>\n",
       "      <td>Black</td>\n",
       "      <td>XL</td>\n",
       "      <td>1 Dress Adidas Men's Fashion Black XL</td>\n",
       "    </tr>\n",
       "    <tr>\n",
       "      <th>1</th>\n",
       "      <td>2</td>\n",
       "      <td>Shoes</td>\n",
       "      <td>H&amp;M</td>\n",
       "      <td>Women's Fashion</td>\n",
       "      <td>Black</td>\n",
       "      <td>L</td>\n",
       "      <td>2 Shoes H&amp;M Women's Fashion Black L</td>\n",
       "    </tr>\n",
       "    <tr>\n",
       "      <th>2</th>\n",
       "      <td>3</td>\n",
       "      <td>Dress</td>\n",
       "      <td>Adidas</td>\n",
       "      <td>Women's Fashion</td>\n",
       "      <td>Yellow</td>\n",
       "      <td>XL</td>\n",
       "      <td>3 Dress Adidas Women's Fashion Yellow XL</td>\n",
       "    </tr>\n",
       "    <tr>\n",
       "      <th>3</th>\n",
       "      <td>4</td>\n",
       "      <td>Shoes</td>\n",
       "      <td>Zara</td>\n",
       "      <td>Men's Fashion</td>\n",
       "      <td>White</td>\n",
       "      <td>S</td>\n",
       "      <td>4 Shoes Zara Men's Fashion White S</td>\n",
       "    </tr>\n",
       "    <tr>\n",
       "      <th>4</th>\n",
       "      <td>5</td>\n",
       "      <td>T-shirt</td>\n",
       "      <td>Adidas</td>\n",
       "      <td>Men's Fashion</td>\n",
       "      <td>Black</td>\n",
       "      <td>M</td>\n",
       "      <td>5 T-shirt Adidas Men's Fashion Black M</td>\n",
       "    </tr>\n",
       "  </tbody>\n",
       "</table>\n",
       "</div>"
      ],
      "text/plain": [
       "   Product ID Product Name   Brand         Category   Color Size  \\\n",
       "0           1        Dress  Adidas    Men's Fashion   Black   XL   \n",
       "1           2        Shoes     H&M  Women's Fashion   Black    L   \n",
       "2           3        Dress  Adidas  Women's Fashion  Yellow   XL   \n",
       "3           4        Shoes    Zara    Men's Fashion   White    S   \n",
       "4           5      T-shirt  Adidas    Men's Fashion   Black    M   \n",
       "\n",
       "                                    Content  \n",
       "0     1 Dress Adidas Men's Fashion Black XL  \n",
       "1       2 Shoes H&M Women's Fashion Black L  \n",
       "2  3 Dress Adidas Women's Fashion Yellow XL  \n",
       "3        4 Shoes Zara Men's Fashion White S  \n",
       "4    5 T-shirt Adidas Men's Fashion Black M  "
      ]
     },
     "execution_count": 21,
     "metadata": {},
     "output_type": "execute_result"
    }
   ],
   "source": [
    "content_df.head()"
   ]
  },
  {
   "cell_type": "markdown",
   "id": "6aa3960a",
   "metadata": {},
   "source": [
    "#### Second Approach: Collaborative Filtering"
   ]
  },
  {
   "cell_type": "code",
   "execution_count": 22,
   "id": "b07e06ec",
   "metadata": {},
   "outputs": [],
   "source": [
    "algo = SVD()\n",
    "trainset = data.build_full_trainset()\n",
    "algo.fit(trainset)\n",
    "\n",
    "def get_collaborative_filtering_recommendations(user_id, top_n):\n",
    "    testset = trainset.build_anti_testset()\n",
    "    testset = filter(lambda x: x[0] == user_id, testset)\n",
    "    predictions = algo.test(testset)\n",
    "    predictions.sort(key=lambda x: x.est, reverse=True)\n",
    "    recommendations = [prediction.iid for prediction in predictions[:top_n]]\n",
    "    return recommendations"
   ]
  },
  {
   "cell_type": "markdown",
   "id": "561e43e1",
   "metadata": {},
   "source": [
    "In the above code, we implemented the collaborative filtering component of the hybrid recommender system using the SVD (Singular Value Decomposition) algorithm.\n",
    "\n",
    "First, we initialized the SVD algorithm and trained it on the dataset. This step involves decomposing the user element rating matrix to capture the underlying patterns and latent factors that drive user preferences.\n",
    "\n",
    "To generate collaborative filtering recommendations, we then created a test set composed of user-item pairs that were not present in the training set. We have filtered this test set to only include items belonging to the target user specified by user_id.\n",
    "\n",
    "Next, we used the trained SVD model to predict the test set item ratings. These predictions represent the estimated ratings that the user would assign to the items.\n",
    "\n",
    "The predictions are then sorted by their estimated ratings in descending order. We selected the top N items with the highest estimated ratings as collaborative filtering recommendations for the user."
   ]
  },
  {
   "cell_type": "markdown",
   "id": "d0cc7f64",
   "metadata": {},
   "source": [
    "### And Finally, The Hybrid Approach"
   ]
  },
  {
   "cell_type": "code",
   "execution_count": 23,
   "id": "e6cc38a2",
   "metadata": {},
   "outputs": [],
   "source": [
    "def get_hybrid_recommendations(user_id, product_id, top_n):\n",
    "    content_based_recommendations = get_content_based_recommendations(product_id, top_n)\n",
    "    collaborative_filtering_recommendations = get_collaborative_filtering_recommendations(user_id, top_n)\n",
    "    hybrid_recommendations = list(set(content_based_recommendations + collaborative_filtering_recommendations))\n",
    "    return hybrid_recommendations[:top_n]"
   ]
  },
  {
   "cell_type": "markdown",
   "id": "03e9e262",
   "metadata": {},
   "source": [
    "In the above code, we combined content-based and collaborative filtering approaches to create a hybrid recommender system.\n",
    "\n",
    "The get_hybrid_recommendations function takes the user_id, the product_id and the desired number of top_n recommendations as input.\n",
    "\n",
    "First, it calls the get_content_based_recommendations function to retrieve a list of content-based recommendations for the specified product_id. These recommendations are based on the similarity between the characteristics of the given product and other products in the dataset.\n",
    "\n",
    "Then it calls the get_collaborative_filtering_recommendations function to get a list of collaborative filtering recommendations for the specified user_id. These recommendations are generated by leveraging historical user-item interactions and estimating user preferences based on similar user behaviours.\n",
    "\n",
    "Next, we combine the content-based and collaborative filtering recommendations by taking the union of the two lists. It ensures that hybrid recommendations include content-based and collaborative filtering recommendations based on user preferences.\n",
    "\n",
    "Here’s how to use our hybrid recommendation system to recommend products based on the product that a user is viewing:"
   ]
  },
  {
   "cell_type": "code",
   "execution_count": 24,
   "id": "03401b68",
   "metadata": {},
   "outputs": [
    {
     "name": "stdout",
     "output_type": "stream",
     "text": [
      "Hybrid Recommendations for User 6 based on Product 11:\n",
      "1. Product ID: 769\n",
      "1. Product ID: 769\n",
      "2. Product ID: 450\n",
      "2. Product ID: 450\n",
      "3. Product ID: 1550\n",
      "3. Product ID: 1550\n",
      "4. Product ID: 879\n",
      "4. Product ID: 879\n",
      "5. Product ID: 177\n",
      "5. Product ID: 177\n",
      "6. Product ID: 1554\n",
      "6. Product ID: 1554\n",
      "7. Product ID: 1362\n",
      "7. Product ID: 1362\n",
      "8. Product ID: 468\n",
      "8. Product ID: 468\n",
      "9. Product ID: 1685\n",
      "9. Product ID: 1685\n",
      "10. Product ID: 476\n",
      "10. Product ID: 476\n"
     ]
    }
   ],
   "source": [
    "user_id = 6\n",
    "product_id = 11\n",
    "top_n = 10\n",
    "recommendations = get_hybrid_recommendations(user_id, product_id, top_n)\n",
    "\n",
    "print(f\"Hybrid Recommendations for User {user_id} based on Product {product_id}:\")\n",
    "for i, recommendation in enumerate(recommendations):\n",
    "    print(f\"{i + 1}. Product ID: {recommendation}\")\n",
    "    print(f\"{i + 1}. Product ID: {recommendation}\")"
   ]
  },
  {
   "cell_type": "code",
   "execution_count": 25,
   "id": "b6b80c67",
   "metadata": {},
   "outputs": [
    {
     "data": {
      "text/html": [
       "<div>\n",
       "<style scoped>\n",
       "    .dataframe tbody tr th:only-of-type {\n",
       "        vertical-align: middle;\n",
       "    }\n",
       "\n",
       "    .dataframe tbody tr th {\n",
       "        vertical-align: top;\n",
       "    }\n",
       "\n",
       "    .dataframe thead th {\n",
       "        text-align: right;\n",
       "    }\n",
       "</style>\n",
       "<table border=\"1\" class=\"dataframe\">\n",
       "  <thead>\n",
       "    <tr style=\"text-align: right;\">\n",
       "      <th></th>\n",
       "      <th>Product ID</th>\n",
       "      <th>Product Name</th>\n",
       "      <th>Brand</th>\n",
       "      <th>Category</th>\n",
       "      <th>Color</th>\n",
       "      <th>Size</th>\n",
       "      <th>Content</th>\n",
       "    </tr>\n",
       "  </thead>\n",
       "  <tbody>\n",
       "    <tr>\n",
       "      <th>0</th>\n",
       "      <td>1</td>\n",
       "      <td>Dress</td>\n",
       "      <td>Adidas</td>\n",
       "      <td>Men's Fashion</td>\n",
       "      <td>Black</td>\n",
       "      <td>XL</td>\n",
       "      <td>1 Dress Adidas Men's Fashion Black XL</td>\n",
       "    </tr>\n",
       "    <tr>\n",
       "      <th>1</th>\n",
       "      <td>2</td>\n",
       "      <td>Shoes</td>\n",
       "      <td>H&amp;M</td>\n",
       "      <td>Women's Fashion</td>\n",
       "      <td>Black</td>\n",
       "      <td>L</td>\n",
       "      <td>2 Shoes H&amp;M Women's Fashion Black L</td>\n",
       "    </tr>\n",
       "    <tr>\n",
       "      <th>2</th>\n",
       "      <td>3</td>\n",
       "      <td>Dress</td>\n",
       "      <td>Adidas</td>\n",
       "      <td>Women's Fashion</td>\n",
       "      <td>Yellow</td>\n",
       "      <td>XL</td>\n",
       "      <td>3 Dress Adidas Women's Fashion Yellow XL</td>\n",
       "    </tr>\n",
       "    <tr>\n",
       "      <th>3</th>\n",
       "      <td>4</td>\n",
       "      <td>Shoes</td>\n",
       "      <td>Zara</td>\n",
       "      <td>Men's Fashion</td>\n",
       "      <td>White</td>\n",
       "      <td>S</td>\n",
       "      <td>4 Shoes Zara Men's Fashion White S</td>\n",
       "    </tr>\n",
       "    <tr>\n",
       "      <th>4</th>\n",
       "      <td>5</td>\n",
       "      <td>T-shirt</td>\n",
       "      <td>Adidas</td>\n",
       "      <td>Men's Fashion</td>\n",
       "      <td>Black</td>\n",
       "      <td>M</td>\n",
       "      <td>5 T-shirt Adidas Men's Fashion Black M</td>\n",
       "    </tr>\n",
       "  </tbody>\n",
       "</table>\n",
       "</div>"
      ],
      "text/plain": [
       "   Product ID Product Name   Brand         Category   Color Size  \\\n",
       "0           1        Dress  Adidas    Men's Fashion   Black   XL   \n",
       "1           2        Shoes     H&M  Women's Fashion   Black    L   \n",
       "2           3        Dress  Adidas  Women's Fashion  Yellow   XL   \n",
       "3           4        Shoes    Zara    Men's Fashion   White    S   \n",
       "4           5      T-shirt  Adidas    Men's Fashion   Black    M   \n",
       "\n",
       "                                    Content  \n",
       "0     1 Dress Adidas Men's Fashion Black XL  \n",
       "1       2 Shoes H&M Women's Fashion Black L  \n",
       "2  3 Dress Adidas Women's Fashion Yellow XL  \n",
       "3        4 Shoes Zara Men's Fashion White S  \n",
       "4    5 T-shirt Adidas Men's Fashion Black M  "
      ]
     },
     "execution_count": 25,
     "metadata": {},
     "output_type": "execute_result"
    }
   ],
   "source": [
    "content_df.head()"
   ]
  },
  {
   "cell_type": "code",
   "execution_count": 26,
   "id": "2c8f7730",
   "metadata": {},
   "outputs": [
    {
     "data": {
      "text/html": [
       "<div>\n",
       "<style scoped>\n",
       "    .dataframe tbody tr th:only-of-type {\n",
       "        vertical-align: middle;\n",
       "    }\n",
       "\n",
       "    .dataframe tbody tr th {\n",
       "        vertical-align: top;\n",
       "    }\n",
       "\n",
       "    .dataframe thead th {\n",
       "        text-align: right;\n",
       "    }\n",
       "</style>\n",
       "<table border=\"1\" class=\"dataframe\">\n",
       "  <thead>\n",
       "    <tr style=\"text-align: right;\">\n",
       "      <th></th>\n",
       "      <th>Product ID</th>\n",
       "      <th>Product Name</th>\n",
       "      <th>Brand</th>\n",
       "      <th>Category</th>\n",
       "      <th>Color</th>\n",
       "      <th>Size</th>\n",
       "      <th>Content</th>\n",
       "    </tr>\n",
       "  </thead>\n",
       "  <tbody>\n",
       "    <tr>\n",
       "      <th>10</th>\n",
       "      <td>11</td>\n",
       "      <td>T-shirt</td>\n",
       "      <td>Adidas</td>\n",
       "      <td>Men's Fashion</td>\n",
       "      <td>Red</td>\n",
       "      <td>S</td>\n",
       "      <td>11 T-shirt Adidas Men's Fashion Red S</td>\n",
       "    </tr>\n",
       "  </tbody>\n",
       "</table>\n",
       "</div>"
      ],
      "text/plain": [
       "    Product ID Product Name   Brand       Category Color Size  \\\n",
       "10          11      T-shirt  Adidas  Men's Fashion   Red    S   \n",
       "\n",
       "                                  Content  \n",
       "10  11 T-shirt Adidas Men's Fashion Red S  "
      ]
     },
     "execution_count": 26,
     "metadata": {},
     "output_type": "execute_result"
    }
   ],
   "source": [
    "content_df[content_df['Product ID'] == 11]"
   ]
  },
  {
   "cell_type": "code",
   "execution_count": 31,
   "id": "69abde37",
   "metadata": {},
   "outputs": [
    {
     "ename": "ValueError",
     "evalue": "('Lengths must match to compare', (1000,), (2,))",
     "output_type": "error",
     "traceback": [
      "\u001b[1;31m---------------------------------------------------------------------------\u001b[0m",
      "\u001b[1;31mValueError\u001b[0m                                Traceback (most recent call last)",
      "Cell \u001b[1;32mIn[31], line 1\u001b[0m\n\u001b[1;32m----> 1\u001b[0m content_df[\u001b[43mcontent_df\u001b[49m\u001b[43m[\u001b[49m\u001b[38;5;124;43m'\u001b[39;49m\u001b[38;5;124;43mProduct ID\u001b[39;49m\u001b[38;5;124;43m'\u001b[39;49m\u001b[43m]\u001b[49m\u001b[43m \u001b[49m\u001b[38;5;241;43m==\u001b[39;49m\u001b[43m \u001b[49m\u001b[43m[\u001b[49m\u001b[38;5;241;43m769\u001b[39;49m\u001b[43m,\u001b[49m\u001b[43m \u001b[49m\u001b[38;5;241;43m450\u001b[39;49m\u001b[43m]\u001b[49m]\n",
      "File \u001b[1;32m~\\anaconda3\\lib\\site-packages\\pandas\\core\\ops\\common.py:72\u001b[0m, in \u001b[0;36m_unpack_zerodim_and_defer.<locals>.new_method\u001b[1;34m(self, other)\u001b[0m\n\u001b[0;32m     68\u001b[0m             \u001b[38;5;28;01mreturn\u001b[39;00m \u001b[38;5;28mNotImplemented\u001b[39m\n\u001b[0;32m     70\u001b[0m other \u001b[38;5;241m=\u001b[39m item_from_zerodim(other)\n\u001b[1;32m---> 72\u001b[0m \u001b[38;5;28;01mreturn\u001b[39;00m \u001b[43mmethod\u001b[49m\u001b[43m(\u001b[49m\u001b[38;5;28;43mself\u001b[39;49m\u001b[43m,\u001b[49m\u001b[43m \u001b[49m\u001b[43mother\u001b[49m\u001b[43m)\u001b[49m\n",
      "File \u001b[1;32m~\\anaconda3\\lib\\site-packages\\pandas\\core\\arraylike.py:42\u001b[0m, in \u001b[0;36mOpsMixin.__eq__\u001b[1;34m(self, other)\u001b[0m\n\u001b[0;32m     40\u001b[0m \u001b[38;5;129m@unpack_zerodim_and_defer\u001b[39m(\u001b[38;5;124m\"\u001b[39m\u001b[38;5;124m__eq__\u001b[39m\u001b[38;5;124m\"\u001b[39m)\n\u001b[0;32m     41\u001b[0m \u001b[38;5;28;01mdef\u001b[39;00m \u001b[38;5;21m__eq__\u001b[39m(\u001b[38;5;28mself\u001b[39m, other):\n\u001b[1;32m---> 42\u001b[0m     \u001b[38;5;28;01mreturn\u001b[39;00m \u001b[38;5;28;43mself\u001b[39;49m\u001b[38;5;241;43m.\u001b[39;49m\u001b[43m_cmp_method\u001b[49m\u001b[43m(\u001b[49m\u001b[43mother\u001b[49m\u001b[43m,\u001b[49m\u001b[43m \u001b[49m\u001b[43moperator\u001b[49m\u001b[38;5;241;43m.\u001b[39;49m\u001b[43meq\u001b[49m\u001b[43m)\u001b[49m\n",
      "File \u001b[1;32m~\\anaconda3\\lib\\site-packages\\pandas\\core\\series.py:6243\u001b[0m, in \u001b[0;36mSeries._cmp_method\u001b[1;34m(self, other, op)\u001b[0m\n\u001b[0;32m   6240\u001b[0m rvalues \u001b[38;5;241m=\u001b[39m extract_array(other, extract_numpy\u001b[38;5;241m=\u001b[39m\u001b[38;5;28;01mTrue\u001b[39;00m, extract_range\u001b[38;5;241m=\u001b[39m\u001b[38;5;28;01mTrue\u001b[39;00m)\n\u001b[0;32m   6242\u001b[0m \u001b[38;5;28;01mwith\u001b[39;00m np\u001b[38;5;241m.\u001b[39merrstate(\u001b[38;5;28mall\u001b[39m\u001b[38;5;241m=\u001b[39m\u001b[38;5;124m\"\u001b[39m\u001b[38;5;124mignore\u001b[39m\u001b[38;5;124m\"\u001b[39m):\n\u001b[1;32m-> 6243\u001b[0m     res_values \u001b[38;5;241m=\u001b[39m \u001b[43mops\u001b[49m\u001b[38;5;241;43m.\u001b[39;49m\u001b[43mcomparison_op\u001b[49m\u001b[43m(\u001b[49m\u001b[43mlvalues\u001b[49m\u001b[43m,\u001b[49m\u001b[43m \u001b[49m\u001b[43mrvalues\u001b[49m\u001b[43m,\u001b[49m\u001b[43m \u001b[49m\u001b[43mop\u001b[49m\u001b[43m)\u001b[49m\n\u001b[0;32m   6245\u001b[0m \u001b[38;5;28;01mreturn\u001b[39;00m \u001b[38;5;28mself\u001b[39m\u001b[38;5;241m.\u001b[39m_construct_result(res_values, name\u001b[38;5;241m=\u001b[39mres_name)\n",
      "File \u001b[1;32m~\\anaconda3\\lib\\site-packages\\pandas\\core\\ops\\array_ops.py:264\u001b[0m, in \u001b[0;36mcomparison_op\u001b[1;34m(left, right, op)\u001b[0m\n\u001b[0;32m    259\u001b[0m \u001b[38;5;28;01mif\u001b[39;00m \u001b[38;5;28misinstance\u001b[39m(rvalues, (np\u001b[38;5;241m.\u001b[39mndarray, ABCExtensionArray)):\n\u001b[0;32m    260\u001b[0m     \u001b[38;5;66;03m# TODO: make this treatment consistent across ops and classes.\u001b[39;00m\n\u001b[0;32m    261\u001b[0m     \u001b[38;5;66;03m#  We are not catching all listlikes here (e.g. frozenset, tuple)\u001b[39;00m\n\u001b[0;32m    262\u001b[0m     \u001b[38;5;66;03m#  The ambiguous case is object-dtype.  See GH#27803\u001b[39;00m\n\u001b[0;32m    263\u001b[0m     \u001b[38;5;28;01mif\u001b[39;00m \u001b[38;5;28mlen\u001b[39m(lvalues) \u001b[38;5;241m!=\u001b[39m \u001b[38;5;28mlen\u001b[39m(rvalues):\n\u001b[1;32m--> 264\u001b[0m         \u001b[38;5;28;01mraise\u001b[39;00m \u001b[38;5;167;01mValueError\u001b[39;00m(\n\u001b[0;32m    265\u001b[0m             \u001b[38;5;124m\"\u001b[39m\u001b[38;5;124mLengths must match to compare\u001b[39m\u001b[38;5;124m\"\u001b[39m, lvalues\u001b[38;5;241m.\u001b[39mshape, rvalues\u001b[38;5;241m.\u001b[39mshape\n\u001b[0;32m    266\u001b[0m         )\n\u001b[0;32m    268\u001b[0m \u001b[38;5;28;01mif\u001b[39;00m should_extension_dispatch(lvalues, rvalues) \u001b[38;5;129;01mor\u001b[39;00m (\n\u001b[0;32m    269\u001b[0m     (\u001b[38;5;28misinstance\u001b[39m(rvalues, (Timedelta, BaseOffset, Timestamp)) \u001b[38;5;129;01mor\u001b[39;00m right \u001b[38;5;129;01mis\u001b[39;00m NaT)\n\u001b[0;32m    270\u001b[0m     \u001b[38;5;129;01mand\u001b[39;00m \u001b[38;5;129;01mnot\u001b[39;00m is_object_dtype(lvalues\u001b[38;5;241m.\u001b[39mdtype)\n\u001b[0;32m    271\u001b[0m ):\n\u001b[0;32m    272\u001b[0m     \u001b[38;5;66;03m# Call the method on lvalues\u001b[39;00m\n\u001b[0;32m    273\u001b[0m     res_values \u001b[38;5;241m=\u001b[39m op(lvalues, rvalues)\n",
      "\u001b[1;31mValueError\u001b[0m: ('Lengths must match to compare', (1000,), (2,))"
     ]
    }
   ],
   "source": [
    "content_df[content_df['Product ID'] in\n",
    "        [769, 450]]"
   ]
  },
  {
   "cell_type": "code",
   "execution_count": null,
   "id": "3a732ea9",
   "metadata": {},
   "outputs": [],
   "source": []
  }
 ],
 "metadata": {
  "kernelspec": {
   "display_name": "Python 3 (ipykernel)",
   "language": "python",
   "name": "python3"
  },
  "language_info": {
   "codemirror_mode": {
    "name": "ipython",
    "version": 3
   },
   "file_extension": ".py",
   "mimetype": "text/x-python",
   "name": "python",
   "nbconvert_exporter": "python",
   "pygments_lexer": "ipython3",
   "version": "3.10.9"
  }
 },
 "nbformat": 4,
 "nbformat_minor": 5
}
